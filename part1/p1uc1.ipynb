{
 "cells": [
  {
   "cell_type": "markdown",
   "metadata": {},
   "source": [
    "## UC1 - Building with AzureOpenAI realtime API "
   ]
  },
  {
   "cell_type": "markdown",
   "metadata": {},
   "source": [
    "\n",
    "The GPT-4o audio realtime API is designed to handle real-time, low-latency conversational interactions, making it a great fit for use cases involving live interactions between a user and a model, such as customer support agents, voice assistants, and real-time translators.\n",
    "\n",
    "Azure OpenAI GPT-4o real-time API supports low-latency, \"speech in, speech out\" conversational interactions\n",
    "Works with text messages, function tool calling, and many other existing capabilities from other endpoints like /chat/completions\n",
    "Is a great fit for support agents, assistants, translators, and other use cases that need highly responsive back-and-forth with a user\n",
    "\n",
    "Please review the [GPT-4o Realtime API documentation](https://learn.microsoft.com/en-us/azure/ai-services/openai/realtime-audio-quickstart?pivots=ai-foundry-portal)\n",
    "\n"
   ]
  },
  {
   "cell_type": "markdown",
   "metadata": {},
   "source": [
    "## Deploying the model\n",
    "On your Azure AI Foundry Portal choose Models + Endpoints, Deploy Mode / Deploy a base Model and finally choose gpt-4o-realtime as the model to be deployed.\n",
    "\n",
    "![Deploying GPT-4o Realtime API](./images/p1.png)\n",
    "\n",
    "Next, edit the deployment to increase the number of calls per minute to the max value.\n",
    "![Increase calls per minute to the model](./images/p2.png)\n",
    "\n"
   ]
  },
  {
   "cell_type": "markdown",
   "metadata": {},
   "source": [
    "## Test GPT4-o real-time API\n",
    "\n",
    "\n"
   ]
  },
  {
   "cell_type": "code",
   "execution_count": null,
   "metadata": {},
   "outputs": [],
   "source": [
    "\n",
    "\n",
    "\n",
    "\n",
    "[Azure OpenAI GPT-4o Audio and /realtime: Public Preview Documentation](https://github.com/azure-samples/aoai-realtime-audio-sdk)\n",
    "\n"
   ]
  }
 ],
 "metadata": {
  "kernelspec": {
   "display_name": "venv",
   "language": "python",
   "name": "python3"
  },
  "language_info": {
   "name": "python",
   "version": "3.12.7"
  }
 },
 "nbformat": 4,
 "nbformat_minor": 2
}

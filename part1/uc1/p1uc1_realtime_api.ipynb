{
 "cells": [
  {
   "cell_type": "markdown",
   "metadata": {},
   "source": [
    "## UC1 - Building with AzureOpenAI realtime API "
   ]
  },
  {
   "cell_type": "markdown",
   "metadata": {},
   "source": [
    "\n",
    "The GPT-4o audio realtime API is designed to handle real-time, low-latency conversational interactions, making it a great fit for use cases involving live interactions between a user and a model, such as customer support agents, voice assistants, and real-time translators.\n",
    "\n",
    "Azure OpenAI GPT-4o real-time API supports low-latency, \"speech in, speech out\" conversational interactions.\n",
    "It works with text messages, function tool calling, and many other existing capabilities from other endpoints like /chat/completions.\n",
    "Is a great fit for support agents, assistants, translators, and other use cases that need highly responsive back-and-forth with a user.\n",
    "\n",
    "Please review the [GPT-4o Realtime API documentation](https://learn.microsoft.com/en-us/azure/ai-services/openai/realtime-audio-quickstart?pivots=ai-foundry-portal)\n",
    "\n"
   ]
  },
  {
   "cell_type": "markdown",
   "metadata": {},
   "source": [
    "## Deploying the model\n",
    "On your Azure AI Foundry Portal choose Models + Endpoints, Deploy Mode / Deploy a base Model and finally choose gpt-4o-realtime as the model to be deployed.\n",
    "\n",
    "![Deploying GPT-4o Realtime API](./images/p1.png)\n",
    "\n",
    "Next, edit the deployment to increase the number of calls per minute to the max value.\n",
    "![Increase calls per minute to the model](./images/p2.png)\n",
    "\n"
   ]
  },
  {
   "cell_type": "markdown",
   "metadata": {},
   "source": [
    "## Test GPT-4o Azure OpenAI API Endpoint with Completions API \n",
    "\n",
    "Once a text-based model such as gpt-4o is deployed, let's use it to generate completions for a given a simple prompt.\n",
    "This way we will confirm the API key and endpoint URL are configured correctly.\n",
    "Move on to the next section when a successful generation is completed."
   ]
  },
  {
   "cell_type": "code",
   "execution_count": null,
   "metadata": {},
   "outputs": [],
   "source": [
    "!pip install os\n",
    "!pip install python-dotenv\n",
    "!pip install openai"
   ]
  },
  {
   "cell_type": "code",
   "execution_count": null,
   "metadata": {},
   "outputs": [],
   "source": [
    "import dotenv\n",
    "import os \n",
    "from openai import AzureOpenAI\n",
    "\n",
    "dotenv.load_dotenv()\n",
    "\n",
    "AZURE_OPENAI_API_KEY = os.getenv(\"AZURE_OPENAI_API_KEY\")\n",
    "AZURE_OPENAI_ENDPOINT = os.getenv(\"AZURE_OPENAI_ENDPOINT\")\n",
    "\n",
    "\n",
    "client = AzureOpenAI(\n",
    "    api_key=os.getenv(\"AZURE_OPENAI_API_KEY\"),  \n",
    "    api_version=\"2024-06-01\",\n",
    "    azure_endpoint = os.getenv(\"AZURE_OPENAI_ENDPOINT\")\n",
    "    )\n",
    "        \n",
    "# Send a completion call to generate an answer\n",
    "completion = client.chat.completions.create(\n",
    "    model=\"gpt-4o\",\n",
    "    messages = [\n",
    "        {\n",
    "        \"role\": \"system\",\n",
    "        \"content\": \"You are an MIT PhD in Physics, specializing in quantum physics.\"\n",
    "        },\n",
    "        {\n",
    "        \"role\": \"user\",\n",
    "        \"content\": \"What is a black hole?\"\n",
    "        }\n",
    "    ]\n",
    "    # max_tokens=4096\n",
    ")\n",
    "\n",
    "#print(completion.model_dump_json(indent=2))\n",
    "content = completion.choices[0].message.content\n",
    "print(content)\n",
    "print(len(content))"
   ]
  },
  {
   "cell_type": "markdown",
   "metadata": {},
   "source": [
    "## Connecting to and authenticating with /realtime\n",
    "\n",
    "/realtime is built on the [WebSockets API](https://developer.mozilla.org/en-US/docs/Web/API/WebSockets_API) to facilitate fully asynchronous streaming communication between the end user and model. \\\n",
    "\n",
    "The /realtime API requires an existing Azure OpenAI resource endpoint in a supported region. \n",
    "A full request URI can be constructed by concatenating:\n",
    "\n",
    "1. The secure WebSocket (wss://) protocol \\\n",
    "2. Your Azure OpenAI resource endpoint hostname, e.g. my-aoai-resource.openai.azure.com \\\n",
    "3. The openai/realtime API path \\\n",
    "4. An api-version query string parameter for a supported API version -- initially, 2024-10-01-preview \\\n",
    "5. A deployment query string parameter with the name of your gpt-4o-realtime-preview model deployment \\\n",
    "\n",
    "Combining into a full example, the following could be a well-constructed /realtime request URI:\n",
    "For example in my case the the full request URI is:\n",
    "\n",
    "```plaintext\n",
    "wss://aoai-ep-swedencentral02.openai.azure.com/openai/realtime?api-version=2024-10-01-preview&deployment=gpt-4o-realtime-preview\n",
    "\n",
    "```\n"
   ]
  },
  {
   "cell_type": "code",
   "execution_count": 31,
   "metadata": {},
   "outputs": [
    {
     "name": "stdout",
     "output_type": "stream",
     "text": [
      "Requirement already satisfied: websockets in /Users/ozgurguler/Developer/Projects/ai-builders/venv/lib/python3.12/site-packages (14.1)\n",
      "Requirement already satisfied: asyncio in /Users/ozgurguler/Developer/Projects/ai-builders/venv/lib/python3.12/site-packages (3.4.3)\n",
      "Requirement already satisfied: nest_asyncio in /Users/ozgurguler/Developer/Projects/ai-builders/venv/lib/python3.12/site-packages (1.6.0)\n"
     ]
    }
   ],
   "source": [
    "!pip install websockets\n",
    "!pip install asyncio\n",
    "!pip install nest_asyncio\n"
   ]
  },
  {
   "cell_type": "code",
   "execution_count": null,
   "metadata": {},
   "outputs": [
    {
     "ename": "ValueError",
     "evalue": "API_KEY not found. Ensure it is set in the .env file.",
     "output_type": "error",
     "traceback": [
      "\u001b[0;31m---------------------------------------------------------------------------\u001b[0m",
      "\u001b[0;31mValueError\u001b[0m                                Traceback (most recent call last)",
      "Cell \u001b[0;32mIn[34], line 18\u001b[0m\n\u001b[1;32m     15\u001b[0m wss_url \u001b[38;5;241m=\u001b[39m \u001b[38;5;124m\"\u001b[39m\u001b[38;5;124mwss://aoai-ep-swedencentral02.openai.azure.com/openai/realtime?api-version=2024-10-01-preview&deployment=gpt-4o-realtime-preview\u001b[39m\u001b[38;5;124m\"\u001b[39m\n\u001b[1;32m     17\u001b[0m \u001b[38;5;28;01mif\u001b[39;00m \u001b[38;5;129;01mnot\u001b[39;00m api_key:\n\u001b[0;32m---> 18\u001b[0m     \u001b[38;5;28;01mraise\u001b[39;00m \u001b[38;5;167;01mValueError\u001b[39;00m(\u001b[38;5;124m\"\u001b[39m\u001b[38;5;124mAPI_KEY not found. Ensure it is set in the .env file.\u001b[39m\u001b[38;5;124m\"\u001b[39m)\n\u001b[1;32m     20\u001b[0m \u001b[38;5;28;01masync\u001b[39;00m \u001b[38;5;28;01mdef\u001b[39;00m \u001b[38;5;21mconfirm_connection\u001b[39m():\n\u001b[1;32m     21\u001b[0m     headers \u001b[38;5;241m=\u001b[39m {\n\u001b[1;32m     22\u001b[0m         \u001b[38;5;124m\"\u001b[39m\u001b[38;5;124mAuthorization\u001b[39m\u001b[38;5;124m\"\u001b[39m: \u001b[38;5;124mf\u001b[39m\u001b[38;5;124m\"\u001b[39m\u001b[38;5;124mBearer \u001b[39m\u001b[38;5;132;01m{\u001b[39;00mapi_key\u001b[38;5;132;01m}\u001b[39;00m\u001b[38;5;124m\"\u001b[39m\n\u001b[1;32m     23\u001b[0m     }\n",
      "\u001b[0;31mValueError\u001b[0m: API_KEY not found. Ensure it is set in the .env file."
     ]
    }
   ],
   "source": [
    "import websockets\n",
    "import asyncio\n",
    "import os\n",
    "from dotenv import load_dotenv\n",
    "import nest_asyncio\n",
    "\n",
    "# Apply the nest_asyncio patch\n",
    "nest_asyncio.apply()\n",
    "\n",
    "# Load environment variables from .env\n",
    "load_dotenv()\n",
    "\n",
    "# Retrieve API key and WSS URL\n",
    "api_key = os.getenv(\"AZURE_OPENAI_API_KEY\")\n",
    "wss_url = \"wss://aoai-ep-swedencentral02.openai.azure.com/openai/realtime?api-version=2024-10-01-preview&deployment=gpt-4o-realtime-preview\"\n",
    "\n",
    "if not api_key:\n",
    "    raise ValueError(\"API_KEY not found. Ensure it is set in the .env file.\")\n",
    "\n",
    "async def confirm_connection():\n",
    "    headers = {\n",
    "        \"Authorization\": f\"Bearer {api_key}\"\n",
    "    }\n",
    "\n",
    "    try:\n",
    "        async with websockets.connect(wss_url, extra_headers=headers) as websocket:\n",
    "            print(\"Successfully connected to the /realtime endpoint!\")\n",
    "    except Exception as e:\n",
    "        print(f\"Connection failed: {e}\")\n",
    "\n",
    "# Run the WebSocket client in Jupyter Notebook\n",
    "await confirm_connection()\n"
   ]
  }
 ],
 "metadata": {
  "kernelspec": {
   "display_name": "venv",
   "language": "python",
   "name": "python3"
  },
  "language_info": {
   "codemirror_mode": {
    "name": "ipython",
    "version": 3
   },
   "file_extension": ".py",
   "mimetype": "text/x-python",
   "name": "python",
   "nbconvert_exporter": "python",
   "pygments_lexer": "ipython3",
   "version": "3.12.7"
  }
 },
 "nbformat": 4,
 "nbformat_minor": 2
}
